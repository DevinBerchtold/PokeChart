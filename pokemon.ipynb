{
 "cells": [
  {
   "cell_type": "markdown",
   "metadata": {},
   "source": [
    "# PokéChart"
   ]
  },
  {
   "cell_type": "code",
   "execution_count": null,
   "metadata": {},
   "outputs": [],
   "source": [
    "# %matplotlib widget\n",
    "# Setup\n",
    "from pokemon import *\n",
    "starters = [1,2,3,4,5,6,7,8,9]\n",
    "evees = [134,135,136,196,197,470,471,700]\n",
    "birds = [144,145,146,249,250,380,381]\n",
    "dogs = [243,244,245]\n",
    "legendary = [382,383,384]\n",
    "pokes = []\n",
    "for n in [3,6,9]:\n",
    "    p = Pokemon(n)\n",
    "    pokes.append(p)\n",
    "    print(p)\n",
    "    img = Image.open(p.filename)\n",
    "    img.thumbnail((192,192))\n",
    "    display(img)"
   ]
  },
  {
   "cell_type": "code",
   "execution_count": null,
   "metadata": {},
   "outputs": [],
   "source": [
    "# Visualize It\n",
    "for p in pokes:\n",
    "    print(p)\n",
    "    # p.chart.show3d(animation=f'output/{p.string}_animation')\n",
    "    p.chart.show3d()"
   ]
  },
  {
   "cell_type": "code",
   "execution_count": null,
   "metadata": {},
   "outputs": [],
   "source": [
    "# Make a chart\n",
    "for p in pokes:\n",
    "    print(p)\n",
    "    display(p.chart.generate(size=128))"
   ]
  }
 ],
 "metadata": {
  "interpreter": {
   "hash": "6e8de6dcee66d2d9848e835a6923a603fe9031c7dca702dcd9586213f49a0d04"
  },
  "kernelspec": {
   "display_name": "Python 3.9.5 64-bit",
   "language": "python",
   "name": "python3"
  },
  "language_info": {
   "codemirror_mode": {
    "name": "ipython",
    "version": 3
   },
   "file_extension": ".py",
   "mimetype": "text/x-python",
   "name": "python",
   "nbconvert_exporter": "python",
   "pygments_lexer": "ipython3",
   "version": "3.9.5"
  },
  "orig_nbformat": 4
 },
 "nbformat": 4,
 "nbformat_minor": 2
}
