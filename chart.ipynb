{
 "cells": [
  {
   "cell_type": "markdown",
   "metadata": {},
   "source": [
    "# PokéChart"
   ]
  },
  {
   "cell_type": "code",
   "execution_count": null,
   "metadata": {},
   "outputs": [],
   "source": [
    "# %matplotlib widget\n",
    "# Setup\n",
    "from pokemon import *\n",
    "starters = [1,2,3,4,5,6,7,8,9]\n",
    "evees = [134,135,136,196,197,470,471,700]\n",
    "birds = [144,145,146,249,250,380,381]\n",
    "dogs = [243,244,245]\n",
    "legendary = [382,383,384]\n",
    "pokes = []\n",
    "for n in starters:\n",
    "    p = Pokemon(n)\n",
    "    pokes.append(p)\n",
    "    print(p.name)\n",
    "    img = Image.open(p.filename)\n",
    "    img.thumbnail((192,192))\n",
    "    display(img)"
   ]
  },
  {
   "cell_type": "code",
   "execution_count": null,
   "metadata": {},
   "outputs": [],
   "source": [
    "# Visualize It\n",
    "for p in pokes:\n",
    "    print(p.name)\n",
    "    p.chart.show3d()"
   ]
  },
  {
   "cell_type": "code",
   "execution_count": null,
   "metadata": {},
   "outputs": [],
   "source": [
    "# Make a chart\n",
    "for p in pokes:\n",
    "    print(p.name)\n",
    "    display(p.chart.generate(size=128))"
   ]
  }
 ],
 "metadata": {
  "interpreter": {
   "hash": "369f2c481f4da34e4445cda3fffd2e751bd1c4d706f27375911949ba6bb62e1c"
  },
  "kernelspec": {
   "display_name": "Python 3.10.4 64-bit",
   "language": "python",
   "name": "python3"
  },
  "language_info": {
   "codemirror_mode": {
    "name": "ipython",
    "version": 3
   },
   "file_extension": ".py",
   "mimetype": "text/x-python",
   "name": "python",
   "nbconvert_exporter": "python",
   "pygments_lexer": "ipython3",
   "version": "3.9.5"
  },
  "orig_nbformat": 4
 },
 "nbformat": 4,
 "nbformat_minor": 2
}
